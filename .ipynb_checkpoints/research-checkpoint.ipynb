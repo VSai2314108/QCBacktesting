{
 "cells": [
  {
   "cell_type": "code",
   "execution_count": 5,
   "metadata": {},
   "outputs": [],
   "source": [
    "# strategy_path = \"qms\"\n",
    "\n",
    "# # read all files in the strategy folder rename them to the first three characters\n",
    "# import os\n",
    "# import shutil\n",
    "# import sys\n",
    "\n",
    "# files =   os.listdir(strategy_path)\n",
    "# for file in files:\n",
    "#     if file.endswith(\".json\"):\n",
    "#         new_name = file[:4].strip() + \".json\"\n",
    "#         os.rename(os.path.join(strategy_path, file), os.path.join(strategy_path, new_name))"
   ]
  },
  {
   "cell_type": "code",
   "execution_count": null,
   "metadata": {},
   "outputs": [],
   "source": []
  }
 ],
 "metadata": {
  "kernelspec": {
   "display_name": ".venv",
   "language": "python",
   "name": "python3"
  },
  "language_info": {
   "codemirror_mode": {
    "name": "ipython",
    "version": 3
   },
   "file_extension": ".py",
   "mimetype": "text/x-python",
   "name": "python",
   "nbconvert_exporter": "python",
   "pygments_lexer": "ipython3",
   "version": "3.12.3"
  }
 },
 "nbformat": 4,
 "nbformat_minor": 2
}
